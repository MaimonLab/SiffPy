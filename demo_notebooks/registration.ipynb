{
 "cells": [
  {
   "cell_type": "code",
   "execution_count": null,
   "metadata": {},
   "outputs": [],
   "source": [
    "from siffpy import SiffReader\n",
    "#filename = 'demo_data/filename_goes_here.siff'\n",
    "#siffreader = SiffReader(filename)\n",
    "\n",
    "#siffreader.register(alignment_color_channel = 0, backend = 'siffpy')"
   ]
  }
 ],
 "metadata": {
  "language_info": {
   "name": "python"
  },
  "orig_nbformat": 4
 },
 "nbformat": 4,
 "nbformat_minor": 2
}
