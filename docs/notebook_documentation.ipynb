{
 "cells": [
  {
   "cell_type": "markdown",
   "metadata": {},
   "source": [
    "# Siffpy: A package for reading `.siff` files and performing standard transformations of the data\n",
    "\n",
    "One major downside to collecting FLIM (fluorescence lifetime imaging microscopy) data is that it does not naturally conform to\n",
    "the structure of an array: samples with high temporal resolution (like the 5 picoseconds of the PicoQuant MultiHarp) will be very\n",
    "sparse data, with thousands of possible arrival times per pixel and most of those data being zeros. And so instead of exporting\n",
    "a standard `.tiff` file, `ScanImage-FLIM` saves data in the `.siff` format, which uses a `.tiff`-like format to store FLIM data.\n",
    "But because this is not a standard `.tiff` file, it needs its own reader. `SiffPy` exists to extract the data from `.siff` files\n",
    "and transform them into `numpy` arrays and `Python` objects that can be easily piped into standard workflows.\n",
    "\n",
    "This page contains examples for some simple workflows that are constrained entirely to `SiffPy` or external pacakges. There are\n",
    "also other packages that exist with the intention of working with `SiffPy` (e.g. `SiffROI`, `siff-napari`) that do this job as\n",
    "well."
   ]
  },
  {
   "cell_type": "markdown",
   "metadata": {},
   "source": [
    "## File I/O\n",
    "\n",
    "The first thing we need to do, of course, is read a file! The main tool of `SiffPy` is the `SiffReader` object, which provides a basic API for\n",
    "returning `ndarray` objects. A `SiffReader` can be initialized with a\n",
    "path to a `.siff` file, which will be opened automatically, or it can be\n",
    "initialized in isolation and a file can be passed later with the `open`\n",
    "function: \n",
    "```\n",
    "sr = SiffReader()\n",
    "\n",
    "# collect some user input, other info\n",
    "...\n",
    "\n",
    "sr.open(path_to_file)\n",
    "```\n",
    "\n",
    "but the most common use case is as below. File opening is generally pretty\n",
    "fast (no more than a few seconds for several-GB files),\n",
    "but if you're reading data from a mounted server that's not local,\n",
    "I haven't optimized the reader to maximize bandwidth yet and it can be slow."
   ]
  },
  {
   "cell_type": "code",
   "execution_count": 6,
   "metadata": {},
   "outputs": [
    {
     "name": "stdout",
     "output_type": "stream",
     "text": [
      "[[[0 0 0 ... 0 0 0]\n",
      "  [0 0 0 ... 0 0 0]\n",
      "  [0 0 0 ... 0 0 0]\n",
      "  ...\n",
      "  [0 0 0 ... 0 0 0]\n",
      "  [0 0 0 ... 0 0 0]\n",
      "  [0 0 0 ... 0 0 0]]\n",
      "\n",
      " [[0 0 0 ... 0 0 0]\n",
      "  [0 0 0 ... 0 0 0]\n",
      "  [0 0 0 ... 0 0 0]\n",
      "  ...\n",
      "  [0 0 0 ... 0 0 0]\n",
      "  [0 0 0 ... 0 0 0]\n",
      "  [0 0 0 ... 0 0 0]]\n",
      "\n",
      " [[0 0 0 ... 0 0 0]\n",
      "  [0 0 0 ... 1 0 0]\n",
      "  [0 0 0 ... 0 0 0]\n",
      "  ...\n",
      "  [0 0 0 ... 0 0 0]\n",
      "  [0 0 0 ... 0 0 0]\n",
      "  [0 0 0 ... 0 0 0]]\n",
      "\n",
      " [[0 0 0 ... 0 0 0]\n",
      "  [0 0 0 ... 1 0 0]\n",
      "  [0 0 0 ... 0 0 0]\n",
      "  ...\n",
      "  [0 0 0 ... 0 0 0]\n",
      "  [0 0 0 ... 0 0 0]\n",
      "  [0 0 0 ... 0 0 0]]]\n"
     ]
    }
   ],
   "source": [
    "from siffpy import SiffReader\n",
    "\n",
    "# file_path can be a string or a pathlib.Path object,\n",
    "# or anything that can be cast to a pathlib.Path object\n",
    "#file_path = 'path/to/file.siff'\n",
    "file_path = '/Users/stephen/Desktop/Data/imaging/2023-09-20/SS00238FLIMAKAR/Fly1/BarOnAtTen_1.siff'\n",
    "\n",
    "sr = SiffReader(file_path)\n",
    "\n",
    "# Returns a `numpy` array of the photon count (i.e. intensity) data\n",
    "# contained in the frames indexed as in the provided `frames`\n",
    "# argument.\n",
    "first_frames = sr.get_frames(frames = [0,1,2,3])\n",
    "\n",
    "print(first_frames)"
   ]
  },
  {
   "cell_type": "markdown",
   "metadata": {},
   "source": [
    "### ImParams and figuring out which frames to load\n",
    "\n",
    "The `SiffReader` object will now have a `im_params` attribute that points to\n",
    "an `ImParams` object, an interface for accessing the metadata in the `.siff` file. Printing the `ImParams` object will report some of this metadata (e.g. the number\n",
    "of frames). Some of it is stored in the metadata of the ScanImage modules, which\n",
    "can be accessed like attributes."
   ]
  },
  {
   "cell_type": "code",
   "execution_count": 4,
   "metadata": {},
   "outputs": [
    {
     "name": "stdout",
     "output_type": "stream",
     "text": [
      "Image parameters: \n",
      "\tScanImage modules : \n",
      "\t\tbase\n",
      "\t\tBeams\n",
      "\t\tCameraManager\n",
      "\t\tChannels\n",
      "\t\tConfigurationSaver\n",
      "\t\tCoordinateSystems\n",
      "\t\tCycleManager\n",
      "\t\tDisplay\n",
      "\t\tFastZ\n",
      "\t\tIntegrationRoiManager\n",
      "\t\tMotionManager\n",
      "\t\tMotors\n",
      "\t\tPhotostim\n",
      "\t\tPmts\n",
      "\t\tRoiManager\n",
      "\t\tScan2D\n",
      "\t\tShutters\n",
      "\t\tStackManager\n",
      "\t\tTileManager\n",
      "\t\tUserFunctions\n",
      "\t\tWSConnector\n",
      "\t\tWaveformManager\n",
      "\t_num_frames_from_siffio : 387\n",
      "\troi_groups : {'imagingRoiGroup': \n",
      "        ROI group Default Imaging ROI Group with\n",
      "        1 ROI(s):\n",
      "\n",
      "        \n",
      "        ROI Default Imaging Roi with\n",
      "        1 scanfield(s):\n",
      "\n",
      "        Scanfield Default Imaging Scanfield with parameters:\n",
      "\t{'ver': 1, 'classname': 'scanimage.mroi.scanfield.fields.RotatedRectangle', 'name': 'Default Imaging Scanfield', 'UserData': None, 'roiUuid': 'E981838A77ED882E', 'roiUuiduint64': 1.682587431e+19, 'centerXY': [0, 0], 'sizeXY': [2, 2], 'rotationDegrees': 0, 'enable': 1, 'pixelResolutionXY': [256, 256], 'pixelToRefTransform': [[0.0078125, 0, -1.00390625], [0, 0.0078125, -1.00390625], [0, 0, 1]], 'affine': [[2, 0, -1], [0, 2, -1], [0, 0, 1]]}\n",
      "        \n",
      "        , 'integrationRoiGroup': \n",
      "        ROI group  with\n",
      "        1 ROI(s):\n",
      "\n",
      "        \n",
      "        ROI  with\n",
      "        1 scanfield(s):\n",
      "\n",
      "        \n",
      "        \n",
      "        }\n",
      "\n"
     ]
    },
    {
     "data": {
      "text/plain": [
       "FastZ module: \n",
       "\tsubmodules : {}\n",
       "\tactuatorLag : 0\n",
       "\tdiscardFlybackFrames : True\n",
       "\tenable : True\n",
       "\tenableFieldCurveCorr : False\n",
       "\terrorMsg : \n",
       "\tflybackTime : 0.015\n",
       "\thasFastZ : True\n",
       "\tname : SI FastZ\n",
       "\tnumDiscardFlybackFrames : 1\n",
       "\tposition : -30\n",
       "\treserverInfo : \n",
       "\tuserInfo : \n",
       "\tvolumePeriodAdjustment : -0.0006\n",
       "\twarnMsg : \n",
       "\twaveformType : sawtooth"
      ]
     },
     "execution_count": 4,
     "metadata": {},
     "output_type": "execute_result"
    }
   ],
   "source": [
    "im_par = sr.im_params\n",
    "print(im_par)"
   ]
  },
  {
   "cell_type": "code",
   "execution_count": null,
   "metadata": {},
   "outputs": [],
   "source": [
    "print(im_par.FastZ)"
   ]
  },
  {
   "cell_type": "markdown",
   "metadata": {},
   "source": [
    "The most useful thing you'll likely use the `ImParams` object to do is call\n",
    "its framelist functions. These use the ScanImage metadata to compute which\n",
    "frames in the `.siff` file correspond to which parts of the imaging volume / session. This way you don't need to figure out things like what order frames are\n",
    "in, which frames to skip because they're flyback, etc. etc. For more information,\n",
    "please check the `SiffReader` documentation in the `API` section of the docs."
   ]
  },
  {
   "cell_type": "code",
   "execution_count": 9,
   "metadata": {},
   "outputs": [
    {
     "data": {
      "text/plain": [
       "[0,\n",
       " 1,\n",
       " 2,\n",
       " 3,\n",
       " 4,\n",
       " 5,\n",
       " 7,\n",
       " 8,\n",
       " 9,\n",
       " 10,\n",
       " 11,\n",
       " 12,\n",
       " 14,\n",
       " 15,\n",
       " 16,\n",
       " 17,\n",
       " 18,\n",
       " 19,\n",
       " 21,\n",
       " 22,\n",
       " 23,\n",
       " 24,\n",
       " 25,\n",
       " 26,\n",
       " 28,\n",
       " 29,\n",
       " 30,\n",
       " 31,\n",
       " 32,\n",
       " 33,\n",
       " 35,\n",
       " 36,\n",
       " 37,\n",
       " 38,\n",
       " 39,\n",
       " 40,\n",
       " 42,\n",
       " 43,\n",
       " 44,\n",
       " 45,\n",
       " 46,\n",
       " 47,\n",
       " 49,\n",
       " 50,\n",
       " 51,\n",
       " 52,\n",
       " 53,\n",
       " 54,\n",
       " 56,\n",
       " 57,\n",
       " 58,\n",
       " 59,\n",
       " 60,\n",
       " 61,\n",
       " 63,\n",
       " 64,\n",
       " 65,\n",
       " 66,\n",
       " 67,\n",
       " 68]"
      ]
     },
     "execution_count": 9,
     "metadata": {},
     "output_type": "execute_result"
    }
   ],
   "source": [
    "# Get the indices of all frames by timepoint (i.e. across all planes, technically\n",
    "# slightly separated in time). Note that this example skips frame 6, which\n",
    "# in this experiment was a flyback frame\n",
    "im_par.flatten_by_timepoints(timepoint_start = 0, timepoint_end = 10)"
   ]
  },
  {
   "cell_type": "markdown",
   "metadata": {},
   "source": [
    "You can also ask for just the frames of a specific z plane"
   ]
  },
  {
   "cell_type": "code",
   "execution_count": 10,
   "metadata": {},
   "outputs": [
    {
     "data": {
      "text/plain": [
       "[3, 10, 17, 24, 31, 38, 45, 52, 59, 66]"
      ]
     },
     "execution_count": 10,
     "metadata": {},
     "output_type": "execute_result"
    }
   ],
   "source": [
    "im_par.flatten_by_timepoints(timepoint_start = 0, timepoint_end = 10, reference_z = 3)"
   ]
  },
  {
   "cell_type": "markdown",
   "metadata": {},
   "source": [
    "If you want all of the frames corresponding to a given slice/color/whatever, use\n",
    "the `framelist_by_x` methods:"
   ]
  },
  {
   "cell_type": "code",
   "execution_count": 14,
   "metadata": {},
   "outputs": [
    {
     "name": "stdout",
     "output_type": "stream",
     "text": [
      "All frames with color channel 0:\n",
      "[0, 1, 2, 3, 4, 5, 7, 8, 9, 10, 11, 12, 14, 15, 16, 17, 18, 19, 21, 22, 23, 24, 25, 26, 28, 29, 30, 31, 32, 33, 35, 36, 37, 38, 39, 40, 42, 43, 44, 45, 46, 47, 49, 50, 51, 52, 53, 54, 56, 57, 58, 59, 60, 61, 63, 64, 65, 66, 67, 68]\n",
      "All frames in timepoint < 5 in the third slice:\n",
      "[2, 9, 16, 23, 30]\n"
     ]
    }
   ],
   "source": [
    "print (\"All frames with color channel 0:\")\n",
    "print(im_par.framelist_by_color(color_channel = 0, lower_bound_timepoint = 0, upper_bound_timepoint=10))\n",
    "\n",
    "print(\"All frames in timepoint < 5 in the third slice:\")\n",
    "print(im_par.framelist_by_slices(color_channel=0, lower_bound = 0, upper_bound=5, slices = [2]))"
   ]
  },
  {
   "cell_type": "code",
   "execution_count": null,
   "metadata": {},
   "outputs": [],
   "source": []
  }
 ],
 "metadata": {
  "kernelspec": {
   "display_name": "siffpy",
   "language": "python",
   "name": "python3"
  },
  "language_info": {
   "codemirror_mode": {
    "name": "ipython",
    "version": 3
   },
   "file_extension": ".py",
   "mimetype": "text/x-python",
   "name": "python",
   "nbconvert_exporter": "python",
   "pygments_lexer": "ipython3",
   "version": "3.9.18"
  },
  "orig_nbformat": 4
 },
 "nbformat": 4,
 "nbformat_minor": 2
}
